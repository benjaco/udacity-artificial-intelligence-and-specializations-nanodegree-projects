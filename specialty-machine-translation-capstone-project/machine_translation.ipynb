{
 "cells": [
  {
   "cell_type": "markdown",
   "metadata": {
    "collapsed": true
   },
   "source": [
    "# Artificial Intelligence Nanodegree\n",
    "## Machine Translation Project\n",
    "In this notebook, sections that end with **'(IMPLEMENTATION)'** in the header indicate that the following blocks of code will require additional functionality which you must provide. Please be sure to read the instructions carefully!\n",
    "\n",
    "## Introduction\n",
    "In this notebook, you will build a deep neural network that functions as part of an end-to-end machine translation pipeline. Your completed pipeline will accept English text as input and return the French translation.\n",
    "\n",
    "- **Preprocess** - You'll convert text to sequence of integers.\n",
    "- **Models** Create models which accepts a sequence of integers as input and returns a probability distribution over possible translations. After learning about the basic types of neural networks that are often used for machine translation, you will engage in your own investigations, to design your own model!\n",
    "- **Prediction** Run the model on English text."
   ]
  },
  {
   "cell_type": "code",
   "execution_count": 1,
   "metadata": {},
   "outputs": [],
   "source": [
    "%load_ext autoreload\n",
    "%aimport helper, tests\n",
    "%autoreload 1\n",
    "%matplotlib inline"
   ]
  },
  {
   "cell_type": "code",
   "execution_count": 56,
   "metadata": {},
   "outputs": [],
   "source": [
    "import collections\n",
    "\n",
    "import helper\n",
    "import numpy as np\n",
    "import project_tests as tests\n",
    "\n",
    "from keras.preprocessing.text import Tokenizer\n",
    "from keras.preprocessing.sequence import pad_sequences\n",
    "from keras.models import Model, Sequential\n",
    "from keras.layers import GRU, Input, Dense, TimeDistributed, Activation, RepeatVector, Bidirectional, SimpleRNN, LSTM, Dropout, Input\n",
    "from keras.layers.embeddings import Embedding\n",
    "from keras.optimizers import Adam\n",
    "from keras.losses import sparse_categorical_crossentropy"
   ]
  },
  {
   "cell_type": "code",
   "execution_count": 3,
   "metadata": {},
   "outputs": [],
   "source": [
    "import inspect\n",
    "import pprint"
   ]
  },
  {
   "cell_type": "markdown",
   "metadata": {},
   "source": [
    "### Verify access to the GPU\n",
    "The following test applies only if you expect to be using a GPU, e.g., while running in a Udacity Workspace or using an AWS instance with GPU support. Run the next cell, and verify that the device_type is \"GPU\".\n",
    "- If the device is not GPU & you are running from a Udacity Workspace, then save your workspace with the icon at the top, then click \"enable\" at the bottom of the workspace.\n",
    "- If the device is not GPU & you are running from an AWS instance, then refer to the cloud computing instructions in the classroom to verify your setup steps."
   ]
  },
  {
   "cell_type": "code",
   "execution_count": 4,
   "metadata": {},
   "outputs": [
    {
     "name": "stdout",
     "output_type": "stream",
     "text": [
      "[name: \"/device:CPU:0\"\n",
      "device_type: \"CPU\"\n",
      "memory_limit: 268435456\n",
      "locality {\n",
      "}\n",
      "incarnation: 7507494277403875231\n",
      ", name: \"/device:GPU:0\"\n",
      "device_type: \"GPU\"\n",
      "memory_limit: 3777626112\n",
      "locality {\n",
      "  bus_id: 1\n",
      "  links {\n",
      "  }\n",
      "}\n",
      "incarnation: 7939005214347254342\n",
      "physical_device_desc: \"device: 0, name: GeForce GTX 980, pci bus id: 0000:02:00.0, compute capability: 5.2\"\n",
      "]\n"
     ]
    }
   ],
   "source": [
    "from tensorflow.python.client import device_lib\n",
    "print(device_lib.list_local_devices())"
   ]
  },
  {
   "cell_type": "markdown",
   "metadata": {},
   "source": [
    "## Dataset\n",
    "We begin by investigating the dataset that will be used to train and evaluate your pipeline.  The most common datasets used for machine translation are from [WMT](http://www.statmt.org/).  However, that will take a long time to train a neural network on.  We'll be using a dataset we created for this project that contains a small vocabulary.  You'll be able to train your model in a reasonable time with this dataset.\n",
    "### Load Data\n",
    "The data is located in `data/small_vocab_en` and `data/small_vocab_fr`. The `small_vocab_en` file contains English sentences with their French translations in the `small_vocab_fr` file. Load the English and French data from these files from running the cell below."
   ]
  },
  {
   "cell_type": "code",
   "execution_count": 5,
   "metadata": {},
   "outputs": [
    {
     "name": "stdout",
     "output_type": "stream",
     "text": [
      "Dataset Loaded\n"
     ]
    }
   ],
   "source": [
    "# Load English data\n",
    "english_sentences = helper.load_data('data/small_vocab_en')\n",
    "# Load French data\n",
    "french_sentences = helper.load_data('data/small_vocab_fr')\n",
    "\n",
    "print('Dataset Loaded')"
   ]
  },
  {
   "cell_type": "markdown",
   "metadata": {},
   "source": [
    "### Files\n",
    "Each line in `small_vocab_en` contains an English sentence with the respective translation in each line of `small_vocab_fr`.  View the first two lines from each file."
   ]
  },
  {
   "cell_type": "code",
   "execution_count": 6,
   "metadata": {},
   "outputs": [
    {
     "name": "stdout",
     "output_type": "stream",
     "text": [
      "small_vocab_en Line 1:  new jersey is sometimes quiet during autumn , and it is snowy in april .\n",
      "small_vocab_fr Line 1:  new jersey est parfois calme pendant l' automne , et il est neigeux en avril .\n",
      "small_vocab_en Line 2:  the united states is usually chilly during july , and it is usually freezing in november .\n",
      "small_vocab_fr Line 2:  les états-unis est généralement froid en juillet , et il gèle habituellement en novembre .\n"
     ]
    }
   ],
   "source": [
    "for sample_i in range(2):\n",
    "    print('small_vocab_en Line {}:  {}'.format(sample_i + 1, english_sentences[sample_i]))\n",
    "    print('small_vocab_fr Line {}:  {}'.format(sample_i + 1, french_sentences[sample_i]))"
   ]
  },
  {
   "cell_type": "markdown",
   "metadata": {},
   "source": [
    "From looking at the sentences, you can see they have been preprocessed already.  The puncuations have been delimited using spaces. All the text have been converted to lowercase.  This should save you some time, but the text requires more preprocessing.\n",
    "### Vocabulary\n",
    "The complexity of the problem is determined by the complexity of the vocabulary.  A more complex vocabulary is a more complex problem.  Let's look at the complexity of the dataset we'll be working with."
   ]
  },
  {
   "cell_type": "code",
   "execution_count": 7,
   "metadata": {},
   "outputs": [
    {
     "name": "stdout",
     "output_type": "stream",
     "text": [
      "1823250 English words.\n",
      "227 unique English words.\n",
      "10 Most common words in the English dataset:\n",
      "\"is\" \",\" \".\" \"in\" \"it\" \"during\" \"the\" \"but\" \"and\" \"sometimes\"\n",
      "\n",
      "1961295 French words.\n",
      "355 unique French words.\n",
      "10 Most common words in the French dataset:\n",
      "\"est\" \".\" \",\" \"en\" \"il\" \"les\" \"mais\" \"et\" \"la\" \"parfois\"\n"
     ]
    }
   ],
   "source": [
    "english_words_counter = collections.Counter([word for sentence in english_sentences for word in sentence.split()])\n",
    "french_words_counter = collections.Counter([word for sentence in french_sentences for word in sentence.split()])\n",
    "\n",
    "print('{} English words.'.format(len([word for sentence in english_sentences for word in sentence.split()])))\n",
    "print('{} unique English words.'.format(len(english_words_counter)))\n",
    "print('10 Most common words in the English dataset:')\n",
    "print('\"' + '\" \"'.join(list(zip(*english_words_counter.most_common(10)))[0]) + '\"')\n",
    "print()\n",
    "print('{} French words.'.format(len([word for sentence in french_sentences for word in sentence.split()])))\n",
    "print('{} unique French words.'.format(len(french_words_counter)))\n",
    "print('10 Most common words in the French dataset:')\n",
    "print('\"' + '\" \"'.join(list(zip(*french_words_counter.most_common(10)))[0]) + '\"')"
   ]
  },
  {
   "cell_type": "markdown",
   "metadata": {},
   "source": [
    "For comparison, _Alice's Adventures in Wonderland_ contains 2,766 unique words of a total of 15,500 words.\n",
    "## Preprocess\n",
    "For this project, you won't use text data as input to your model. Instead, you'll convert the text into sequences of integers using the following preprocess methods:\n",
    "1. Tokenize the words into ids\n",
    "2. Add padding to make all the sequences the same length.\n",
    "\n",
    "Time to start preprocessing the data...\n",
    "### Tokenize (IMPLEMENTATION)\n",
    "For a neural network to predict on text data, it first has to be turned into data it can understand. Text data like \"dog\" is a sequence of ASCII character encodings.  Since a neural network is a series of multiplication and addition operations, the input data needs to be number(s).\n",
    "\n",
    "We can turn each character into a number or each word into a number.  These are called character and word ids, respectively.  Character ids are used for character level models that generate text predictions for each character.  A word level model uses word ids that generate text predictions for each word.  Word level models tend to learn better, since they are lower in complexity, so we'll use those.\n",
    "\n",
    "Turn each sentence into a sequence of words ids using Keras's [`Tokenizer`](https://keras.io/preprocessing/text/#tokenizer) function. Use this function to tokenize `english_sentences` and `french_sentences` in the cell below.\n",
    "\n",
    "Running the cell will run `tokenize` on sample data and show output for debugging."
   ]
  },
  {
   "cell_type": "code",
   "execution_count": 8,
   "metadata": {},
   "outputs": [
    {
     "name": "stdout",
     "output_type": "stream",
     "text": [
      "{'jumps': 6, 'lazy': 8, 'sentence': 21, 'lexicography': 15, 'by': 10, 'this': 18, 'jove': 11, 'brown': 4, 'short': 20, 'a': 3, 'over': 7, 'quick': 2, 'fox': 5, 'won': 16, 'the': 1, 'of': 14, 'dog': 9, 'is': 19, 'my': 12, 'prize': 17, 'study': 13}\n",
      "\n",
      "Sequence 1 in x\n",
      "  Input:  The quick brown fox jumps over the lazy dog .\n",
      "  Output: [1, 2, 4, 5, 6, 7, 1, 8, 9]\n",
      "Sequence 2 in x\n",
      "  Input:  By Jove , my quick study of lexicography won a prize .\n",
      "  Output: [10, 11, 12, 2, 13, 14, 15, 16, 3, 17]\n",
      "Sequence 3 in x\n",
      "  Input:  This is a short sentence .\n",
      "  Output: [18, 19, 3, 20, 21]\n"
     ]
    }
   ],
   "source": [
    "def tokenize(x):\n",
    "    \"\"\"\n",
    "    Tokenize x\n",
    "    :param x: List of sentences/strings to be tokenized\n",
    "    :return: Tuple of (tokenized x data, tokenizer used to tokenize x)\n",
    "    \"\"\"\n",
    "    # TODO: Implement\n",
    "    tokenizer = Tokenizer()\n",
    "    tokenizer.fit_on_texts(x)\n",
    "    \n",
    "    tokenized_words = tokenizer.texts_to_sequences(x)\n",
    "    \n",
    "    return tokenized_words, tokenizer\n",
    "\n",
    "\n",
    "# tests.test_tokenize(tokenize)\n",
    "\n",
    "# Tokenize Example output\n",
    "text_sentences = [\n",
    "    'The quick brown fox jumps over the lazy dog .',\n",
    "    'By Jove , my quick study of lexicography won a prize .',\n",
    "    'This is a short sentence .']\n",
    "text_tokenized, text_tokenizer = tokenize(text_sentences)\n",
    "print(text_tokenizer.word_index)\n",
    "print()\n",
    "for sample_i, (sent, token_sent) in enumerate(zip(text_sentences, text_tokenized)):\n",
    "    print('Sequence {} in x'.format(sample_i + 1))\n",
    "    print('  Input:  {}'.format(sent))\n",
    "    print('  Output: {}'.format(token_sent))"
   ]
  },
  {
   "cell_type": "markdown",
   "metadata": {},
   "source": [
    "### Padding (IMPLEMENTATION)\n",
    "When batching the sequence of word ids together, each sequence needs to be the same length.  Since sentences are dynamic in length, we can add padding to the end of the sequences to make them the same length.\n",
    "\n",
    "Make sure all the English sequences have the same length and all the French sequences have the same length by adding padding to the **end** of each sequence using Keras's [`pad_sequences`](https://keras.io/preprocessing/sequence/#pad_sequences) function."
   ]
  },
  {
   "cell_type": "code",
   "execution_count": 9,
   "metadata": {},
   "outputs": [
    {
     "name": "stdout",
     "output_type": "stream",
     "text": [
      "Sequence 1 in x\n",
      "  Input:  [1 2 4 5 6 7 1 8 9]\n",
      "  Output: [1 2 4 5 6 7 1 8 9 0]\n",
      "Sequence 2 in x\n",
      "  Input:  [10 11 12  2 13 14 15 16  3 17]\n",
      "  Output: [10 11 12  2 13 14 15 16  3 17]\n",
      "Sequence 3 in x\n",
      "  Input:  [18 19  3 20 21]\n",
      "  Output: [18 19  3 20 21  0  0  0  0  0]\n"
     ]
    }
   ],
   "source": [
    "def pad(x, length=None):\n",
    "    \"\"\"\n",
    "    Pad x\n",
    "    :param x: List of sequences.\n",
    "    :param length: Length to pad the sequence to.  If None, use length of longest sequence in x.\n",
    "    :return: Padded numpy array of sequences\n",
    "    \"\"\"\n",
    "    # TODO: Implement\n",
    "    return pad_sequences(x, maxlen=length, padding='post')\n",
    "\n",
    "tests.test_pad(pad)\n",
    "\n",
    "# Pad Tokenized output\n",
    "test_pad = pad(text_tokenized)\n",
    "for sample_i, (token_sent, pad_sent) in enumerate(zip(text_tokenized, test_pad)):\n",
    "    print('Sequence {} in x'.format(sample_i + 1))\n",
    "    print('  Input:  {}'.format(np.array(token_sent)))\n",
    "    print('  Output: {}'.format(pad_sent))"
   ]
  },
  {
   "cell_type": "markdown",
   "metadata": {},
   "source": [
    "### Preprocess Pipeline\n",
    "Your focus for this project is to build neural network architecture, so we won't ask you to create a preprocess pipeline.  Instead, we've provided you with the implementation of the `preprocess` function."
   ]
  },
  {
   "cell_type": "code",
   "execution_count": 10,
   "metadata": {},
   "outputs": [
    {
     "name": "stdout",
     "output_type": "stream",
     "text": [
      "Data Preprocessed\n",
      "Max English sentence length: 15\n",
      "Max French sentence length: 21\n",
      "English vocabulary size: 199\n",
      "French vocabulary size: 344\n"
     ]
    }
   ],
   "source": [
    "def preprocess(x, y):\n",
    "    \"\"\"\n",
    "    Preprocess x and y\n",
    "    :param x: Feature List of sentences\n",
    "    :param y: Label List of sentences\n",
    "    :return: Tuple of (Preprocessed x, Preprocessed y, x tokenizer, y tokenizer)\n",
    "    \"\"\"\n",
    "    preprocess_x, x_tk = tokenize(x)\n",
    "    preprocess_y, y_tk = tokenize(y)\n",
    "\n",
    "    preprocess_x = pad(preprocess_x)\n",
    "    preprocess_y = pad(preprocess_y)\n",
    "\n",
    "    # Keras's sparse_categorical_crossentropy function requires the labels to be in 3 dimensions\n",
    "    preprocess_y = preprocess_y.reshape(*preprocess_y.shape, 1)\n",
    "\n",
    "    return preprocess_x, preprocess_y, x_tk, y_tk\n",
    "\n",
    "preproc_english_sentences, preproc_french_sentences, english_tokenizer, french_tokenizer =\\\n",
    "    preprocess(english_sentences, french_sentences)\n",
    "    \n",
    "max_english_sequence_length = preproc_english_sentences.shape[1]\n",
    "max_french_sequence_length = preproc_french_sentences.shape[1]\n",
    "english_vocab_size = len(english_tokenizer.word_index)\n",
    "french_vocab_size = len(french_tokenizer.word_index)\n",
    "\n",
    "print('Data Preprocessed')\n",
    "print(\"Max English sentence length:\", max_english_sequence_length)\n",
    "print(\"Max French sentence length:\", max_french_sequence_length)\n",
    "print(\"English vocabulary size:\", english_vocab_size)\n",
    "print(\"French vocabulary size:\", french_vocab_size)"
   ]
  },
  {
   "cell_type": "markdown",
   "metadata": {},
   "source": [
    "## Models\n",
    "In this section, you will experiment with various neural network architectures.\n",
    "You will begin by training four relatively simple architectures.\n",
    "- Model 1 is a simple RNN\n",
    "- Model 2 is a RNN with Embedding\n",
    "- Model 3 is a Bidirectional RNN\n",
    "- Model 4 is an optional Encoder-Decoder RNN\n",
    "\n",
    "After experimenting with the four simple architectures, you will construct a deeper architecture that is designed to outperform all four models.\n",
    "### Ids Back to Text\n",
    "The neural network will be translating the input to words ids, which isn't the final form we want.  We want the French translation.  The function `logits_to_text` will bridge the gab between the logits from the neural network to the French translation.  You'll be using this function to better understand the output of the neural network."
   ]
  },
  {
   "cell_type": "code",
   "execution_count": 11,
   "metadata": {},
   "outputs": [
    {
     "name": "stdout",
     "output_type": "stream",
     "text": [
      "`logits_to_text` function loaded.\n"
     ]
    }
   ],
   "source": [
    "def logits_to_text(logits, tokenizer):\n",
    "    \"\"\"\n",
    "    Turn logits from a neural network into text using the tokenizer\n",
    "    :param logits: Logits from a neural network\n",
    "    :param tokenizer: Keras Tokenizer fit on the labels\n",
    "    :return: String that represents the text of the logits\n",
    "    \"\"\"\n",
    "    index_to_words = {id: word for word, id in tokenizer.word_index.items()}\n",
    "    index_to_words[0] = '<PAD>'\n",
    "\n",
    "    return ' '.join([index_to_words[prediction] for prediction in np.argmax(logits, 1)])\n",
    "\n",
    "print('`logits_to_text` function loaded.')"
   ]
  },
  {
   "cell_type": "markdown",
   "metadata": {},
   "source": [
    "### Model 1: RNN (IMPLEMENTATION)\n",
    "![RNN](images/rnn.png)\n",
    "A basic RNN model is a good baseline for sequence data.  In this model, you'll build a RNN that translates English to French."
   ]
  },
  {
   "cell_type": "code",
   "execution_count": 12,
   "metadata": {},
   "outputs": [
    {
     "name": "stdout",
     "output_type": "stream",
     "text": [
      "Train on 110288 samples, validate on 27573 samples\n",
      "Epoch 1/30\n",
      "110288/110288 [==============================] - 4s 38us/step - loss: 10.9006 - acc: 0.0632 - val_loss: nan - val_acc: 0.2003\n",
      "Epoch 2/30\n",
      "110288/110288 [==============================] - 4s 35us/step - loss: 8.5207 - acc: 0.2699 - val_loss: nan - val_acc: 0.2937\n",
      "Epoch 3/30\n",
      "110288/110288 [==============================] - 4s 35us/step - loss: 8.1039 - acc: 0.2963 - val_loss: nan - val_acc: 0.2995\n",
      "Epoch 4/30\n",
      "110288/110288 [==============================] - 4s 35us/step - loss: 7.9005 - acc: 0.3108 - val_loss: nan - val_acc: 0.3286\n",
      "Epoch 5/30\n",
      "110288/110288 [==============================] - 4s 35us/step - loss: 7.6117 - acc: 0.3339 - val_loss: nan - val_acc: 0.3374\n",
      "Epoch 6/30\n",
      "110288/110288 [==============================] - 4s 35us/step - loss: 7.4165 - acc: 0.3400 - val_loss: nan - val_acc: 0.3463\n",
      "Epoch 7/30\n",
      "110288/110288 [==============================] - 4s 36us/step - loss: 7.2340 - acc: 0.3607 - val_loss: nan - val_acc: 0.3769\n",
      "Epoch 8/30\n",
      "110288/110288 [==============================] - 4s 36us/step - loss: 7.0437 - acc: 0.3777 - val_loss: nan - val_acc: 0.3801\n",
      "Epoch 9/30\n",
      "110288/110288 [==============================] - 4s 36us/step - loss: 6.9113 - acc: 0.3800 - val_loss: nan - val_acc: 0.3821\n",
      "Epoch 10/30\n",
      "110288/110288 [==============================] - 4s 35us/step - loss: 6.7543 - acc: 0.3866 - val_loss: nan - val_acc: 0.3945\n",
      "Epoch 11/30\n",
      "110288/110288 [==============================] - 4s 33us/step - loss: 6.4773 - acc: 0.4000 - val_loss: nan - val_acc: 0.4054\n",
      "Epoch 12/30\n",
      "110288/110288 [==============================] - 4s 34us/step - loss: 6.1343 - acc: 0.4075 - val_loss: nan - val_acc: 0.4104\n",
      "Epoch 13/30\n",
      "110288/110288 [==============================] - 4s 33us/step - loss: 5.9959 - acc: 0.4093 - val_loss: nan - val_acc: 0.4123\n",
      "Epoch 14/30\n",
      "110288/110288 [==============================] - 4s 34us/step - loss: 5.9255 - acc: 0.4115 - val_loss: nan - val_acc: 0.4121\n",
      "Epoch 15/30\n",
      "110288/110288 [==============================] - 4s 34us/step - loss: 5.8672 - acc: 0.4096 - val_loss: nan - val_acc: 0.4110\n",
      "Epoch 16/30\n",
      "110288/110288 [==============================] - 4s 35us/step - loss: 5.8170 - acc: 0.4042 - val_loss: nan - val_acc: 0.3912\n",
      "Epoch 17/30\n",
      "110288/110288 [==============================] - 4s 35us/step - loss: 5.7611 - acc: 0.3936 - val_loss: nan - val_acc: 0.3993\n",
      "Epoch 18/30\n",
      "110288/110288 [==============================] - 4s 35us/step - loss: 5.7103 - acc: 0.4027 - val_loss: nan - val_acc: 0.4072\n",
      "Epoch 19/30\n",
      "110288/110288 [==============================] - 4s 34us/step - loss: 5.6773 - acc: 0.4058 - val_loss: nan - val_acc: 0.4063\n",
      "Epoch 20/30\n",
      "110288/110288 [==============================] - 4s 33us/step - loss: 5.6638 - acc: 0.4048 - val_loss: nan - val_acc: 0.4056\n",
      "Epoch 21/30\n",
      "110288/110288 [==============================] - 4s 34us/step - loss: 5.6365 - acc: 0.4025 - val_loss: nan - val_acc: 0.4028\n",
      "Epoch 22/30\n",
      "110288/110288 [==============================] - 4s 35us/step - loss: 5.6126 - acc: 0.4009 - val_loss: nan - val_acc: 0.4021\n",
      "Epoch 23/30\n",
      "110288/110288 [==============================] - 4s 35us/step - loss: 5.5878 - acc: 0.4008 - val_loss: nan - val_acc: 0.4023\n",
      "Epoch 24/30\n",
      "110288/110288 [==============================] - 4s 34us/step - loss: 5.5929 - acc: 0.4010 - val_loss: nan - val_acc: 0.4027\n",
      "Epoch 25/30\n",
      "110288/110288 [==============================] - 4s 34us/step - loss: 5.5612 - acc: 0.4024 - val_loss: nan - val_acc: 0.4067\n",
      "Epoch 26/30\n",
      "110288/110288 [==============================] - 4s 35us/step - loss: 5.5491 - acc: 0.4053 - val_loss: nan - val_acc: 0.4069\n",
      "Epoch 27/30\n",
      "110288/110288 [==============================] - 4s 34us/step - loss: 5.5284 - acc: 0.4097 - val_loss: nan - val_acc: 0.4144\n",
      "Epoch 28/30\n",
      "110288/110288 [==============================] - 4s 34us/step - loss: 5.5205 - acc: 0.4164 - val_loss: nan - val_acc: 0.4183\n",
      "Epoch 29/30\n",
      "110288/110288 [==============================] - 4s 35us/step - loss: 5.5343 - acc: 0.4172 - val_loss: nan - val_acc: 0.4192\n",
      "Epoch 30/30\n",
      "110288/110288 [==============================] - 4s 35us/step - loss: 5.5020 - acc: 0.4190 - val_loss: nan - val_acc: 0.4223\n",
      "est est mais <PAD> est est est est <PAD> <PAD> est est est mais <PAD> <PAD> <PAD> <PAD> <PAD> <PAD> <PAD>\n"
     ]
    }
   ],
   "source": [
    "def simple_model(input_shape, output_sequence_length, english_vocab_size, french_vocab_size):\n",
    "    \"\"\"\n",
    "    Build and train a basic RNN on x and y\n",
    "    :param input_shape: Tuple of input shape\n",
    "    :param output_sequence_length: Length of output sequence\n",
    "    :param english_vocab_size: Number of unique English words in the dataset\n",
    "    :param french_vocab_size: Number of unique French words in the dataset\n",
    "    :return: Keras model built, but not trained\n",
    "    \"\"\"\n",
    "    # TODO: Build the layers\n",
    "    learning_rate = 0.00001\n",
    "        \n",
    "    model = Sequential([\n",
    "        SimpleRNN(\n",
    "            units = french_vocab_size, # size of output space\n",
    "            return_sequences = True,\n",
    "            input_shape = input_shape[1:], # don't care how big the traning set is,\n",
    "        )\n",
    "    ])\n",
    "    \n",
    "    model.compile(loss=sparse_categorical_crossentropy,\n",
    "                  optimizer=Adam(learning_rate),\n",
    "                  metrics=['accuracy'])\n",
    "    \n",
    "    return model\n",
    "\n",
    "\n",
    "tests.test_simple_model(simple_model)\n",
    "\n",
    "# Reshaping the input to work with a basic RNN\n",
    "tmp_x = pad(preproc_english_sentences, max_french_sequence_length)\n",
    "tmp_x = tmp_x.reshape((-1, preproc_french_sentences.shape[-2], 1))\n",
    "\n",
    "# Train the neural network\n",
    "simple_rnn_model = simple_model(\n",
    "    tmp_x.shape,\n",
    "    max_french_sequence_length,\n",
    "    english_vocab_size,\n",
    "    french_vocab_size)\n",
    "\n",
    "# i turned down batch size down, feels likes it learns faster\n",
    "simple_rnn_model_traning_metadata = \\\n",
    "    simple_rnn_model.fit(tmp_x, preproc_french_sentences, batch_size=256, epochs=30, validation_split=0.2)\n",
    "\n",
    "# Print prediction(s)\n",
    "print(logits_to_text(simple_rnn_model.predict(tmp_x[:1])[0], french_tokenizer))"
   ]
  },
  {
   "cell_type": "code",
   "execution_count": 13,
   "metadata": {},
   "outputs": [],
   "source": [
    "import pandas as pd"
   ]
  },
  {
   "cell_type": "code",
   "execution_count": 14,
   "metadata": {},
   "outputs": [
    {
     "name": "stdout",
     "output_type": "stream",
     "text": [
      "(137861, 21, 1) 21 199 344\n",
      "_________________________________________________________________\n",
      "Layer (type)                 Output Shape              Param #   \n",
      "=================================================================\n",
      "simple_rnn_2 (SimpleRNN)     (None, 21, 344)           119024    \n",
      "=================================================================\n",
      "Total params: 119,024\n",
      "Trainable params: 119,024\n",
      "Non-trainable params: 0\n",
      "_________________________________________________________________\n",
      "None\n"
     ]
    },
    {
     "data": {
      "text/plain": [
       "<matplotlib.axes._subplots.AxesSubplot at 0x7f54107e77f0>"
      ]
     },
     "execution_count": 14,
     "metadata": {},
     "output_type": "execute_result"
    },
    {
     "data": {
      "image/png": "[encoded data removed]",
      "text/plain": [
       "<Figure size 432x288 with 1 Axes>"
      ]
     },
     "metadata": {},
     "output_type": "display_data"
    },
    {
     "data": {
      "image/png": "[encoded data removed]",
      "text/plain": [
       "<Figure size 432x288 with 1 Axes>"
      ]
     },
     "metadata": {},
     "output_type": "display_data"
    }
   ],
   "source": [
    "print(tmp_x.shape,\n",
    "    max_french_sequence_length,\n",
    "    english_vocab_size,\n",
    "    french_vocab_size)\n",
    "\n",
    "print(simple_rnn_model.summary())\n",
    "\n",
    "his = pd.DataFrame.from_dict(simple_rnn_model_traning_metadata.history)\n",
    "his[['loss','val_loss']].plot()\n",
    "his[['acc','val_acc']].plot()"
   ]
  },
  {
   "cell_type": "markdown",
   "metadata": {},
   "source": [
    "### Model 2: Embedding (IMPLEMENTATION)\n",
    "![RNN](images/embedding.png)\n",
    "You've turned the words into ids, but there's a better representation of a word.  This is called word embeddings.  An embedding is a vector representation of the word that is close to similar words in n-dimensional space, where the n represents the size of the embedding vectors.\n",
    "\n",
    "In this model, you'll create a RNN model using embedding."
   ]
  },
  {
   "cell_type": "code",
   "execution_count": 15,
   "metadata": {
    "scrolled": false
   },
   "outputs": [
    {
     "name": "stdout",
     "output_type": "stream",
     "text": [
      "Train on 110288 samples, validate on 27573 samples\n",
      "Epoch 1/40\n",
      "110288/110288 [==============================] - 5s 43us/step - loss: 8.4630 - acc: 0.1333 - val_loss: nan - val_acc: 0.2758\n",
      "Epoch 2/40\n",
      "110288/110288 [==============================] - 5s 41us/step - loss: 7.3412 - acc: 0.3233 - val_loss: nan - val_acc: 0.3629\n",
      "Epoch 3/40\n",
      "110288/110288 [==============================] - 5s 41us/step - loss: 6.8993 - acc: 0.3738 - val_loss: nan - val_acc: 0.3809\n",
      "Epoch 4/40\n",
      "110288/110288 [==============================] - 5s 41us/step - loss: 6.6472 - acc: 0.3898 - val_loss: nan - val_acc: 0.3957\n",
      "Epoch 5/40\n",
      "110288/110288 [==============================] - 5s 42us/step - loss: 6.4974 - acc: 0.4004 - val_loss: nan - val_acc: 0.4058\n",
      "Epoch 6/40\n",
      "110288/110288 [==============================] - 5s 41us/step - loss: 6.3515 - acc: 0.4083 - val_loss: nan - val_acc: 0.4107\n",
      "Epoch 7/40\n",
      "110288/110288 [==============================] - 5s 41us/step - loss: 6.2135 - acc: 0.4124 - val_loss: nan - val_acc: 0.4144\n",
      "Epoch 8/40\n",
      "110288/110288 [==============================] - 5s 42us/step - loss: 6.0586 - acc: 0.4153 - val_loss: nan - val_acc: 0.4173\n",
      "Epoch 9/40\n",
      "110288/110288 [==============================] - 5s 41us/step - loss: 5.8728 - acc: 0.4182 - val_loss: nan - val_acc: 0.4205\n",
      "Epoch 10/40\n",
      "110288/110288 [==============================] - 5s 41us/step - loss: 5.7637 - acc: 0.4203 - val_loss: nan - val_acc: 0.4219\n",
      "Epoch 11/40\n",
      "110288/110288 [==============================] - 5s 41us/step - loss: 5.6691 - acc: 0.4221 - val_loss: nan - val_acc: 0.4258\n",
      "Epoch 12/40\n",
      "110288/110288 [==============================] - 5s 41us/step - loss: 5.5457 - acc: 0.4255 - val_loss: nan - val_acc: 0.4271\n",
      "Epoch 13/40\n",
      "110288/110288 [==============================] - 5s 42us/step - loss: 5.4589 - acc: 0.4272 - val_loss: nan - val_acc: 0.4290\n",
      "Epoch 14/40\n",
      "110288/110288 [==============================] - 5s 42us/step - loss: 5.3756 - acc: 0.4288 - val_loss: nan - val_acc: 0.4306\n",
      "Epoch 15/40\n",
      "110288/110288 [==============================] - 5s 42us/step - loss: 5.2920 - acc: 0.4320 - val_loss: nan - val_acc: 0.4359\n",
      "Epoch 16/40\n",
      "110288/110288 [==============================] - 5s 42us/step - loss: 5.2118 - acc: 0.4357 - val_loss: nan - val_acc: 0.4381\n",
      "Epoch 17/40\n",
      "110288/110288 [==============================] - 5s 41us/step - loss: 5.1368 - acc: 0.4380 - val_loss: nan - val_acc: 0.4409\n",
      "Epoch 18/40\n",
      "110288/110288 [==============================] - 5s 42us/step - loss: 5.0734 - acc: 0.4411 - val_loss: nan - val_acc: 0.4426\n",
      "Epoch 19/40\n",
      "110288/110288 [==============================] - 5s 42us/step - loss: 5.0041 - acc: 0.4428 - val_loss: nan - val_acc: 0.4445\n",
      "Epoch 20/40\n",
      "110288/110288 [==============================] - 5s 41us/step - loss: 4.9307 - acc: 0.4455 - val_loss: nan - val_acc: 0.4481\n",
      "Epoch 21/40\n",
      "110288/110288 [==============================] - 5s 42us/step - loss: 4.8214 - acc: 0.4488 - val_loss: nan - val_acc: 0.4549\n",
      "Epoch 22/40\n",
      "110288/110288 [==============================] - 5s 42us/step - loss: 4.7284 - acc: 0.4552 - val_loss: nan - val_acc: 0.4573\n",
      "Epoch 23/40\n",
      "110288/110288 [==============================] - 5s 42us/step - loss: 4.6452 - acc: 0.4586 - val_loss: nan - val_acc: 0.4634\n",
      "Epoch 24/40\n",
      "110288/110288 [==============================] - 5s 42us/step - loss: 4.5624 - acc: 0.4669 - val_loss: nan - val_acc: 0.4727\n",
      "Epoch 25/40\n",
      "110288/110288 [==============================] - 5s 45us/step - loss: 4.4736 - acc: 0.4716 - val_loss: nan - val_acc: 0.4748\n",
      "Epoch 26/40\n",
      "110288/110288 [==============================] - 5s 41us/step - loss: 4.3764 - acc: 0.4803 - val_loss: nan - val_acc: 0.4846\n",
      "Epoch 27/40\n",
      "110288/110288 [==============================] - 5s 41us/step - loss: 4.2784 - acc: 0.4823 - val_loss: nan - val_acc: 0.4827\n",
      "Epoch 28/40\n",
      "110288/110288 [==============================] - 5s 42us/step - loss: 4.1810 - acc: 0.4833 - val_loss: nan - val_acc: 0.4878\n",
      "Epoch 29/40\n",
      "110288/110288 [==============================] - 5s 41us/step - loss: 4.0747 - acc: 0.4902 - val_loss: nan - val_acc: 0.4930\n",
      "Epoch 30/40\n",
      "110288/110288 [==============================] - 5s 41us/step - loss: 3.9712 - acc: 0.4924 - val_loss: nan - val_acc: 0.4932\n",
      "Epoch 31/40\n",
      "110288/110288 [==============================] - 5s 42us/step - loss: 3.8527 - acc: 0.4906 - val_loss: nan - val_acc: 0.4911\n",
      "Epoch 32/40\n",
      "110288/110288 [==============================] - 5s 41us/step - loss: 3.7243 - acc: 0.4891 - val_loss: nan - val_acc: 0.4898\n",
      "Epoch 33/40\n",
      "110288/110288 [==============================] - 5s 41us/step - loss: 3.5968 - acc: 0.4900 - val_loss: nan - val_acc: 0.4917\n",
      "Epoch 34/40\n",
      "110288/110288 [==============================] - 5s 42us/step - loss: 3.4714 - acc: 0.4941 - val_loss: nan - val_acc: 0.4964\n",
      "Epoch 35/40\n",
      "110288/110288 [==============================] - 5s 42us/step - loss: 3.3222 - acc: 0.4950 - val_loss: nan - val_acc: 0.4960\n",
      "Epoch 36/40\n",
      "110288/110288 [==============================] - 5s 42us/step - loss: 3.2195 - acc: 0.4955 - val_loss: nan - val_acc: 0.4964\n",
      "Epoch 37/40\n",
      "110288/110288 [==============================] - 5s 43us/step - loss: 3.1053 - acc: 0.4954 - val_loss: nan - val_acc: 0.4966\n",
      "Epoch 38/40\n",
      "110288/110288 [==============================] - 5s 41us/step - loss: 3.0377 - acc: 0.4967 - val_loss: nan - val_acc: 0.4984\n",
      "Epoch 39/40\n",
      "110288/110288 [==============================] - 5s 41us/step - loss: 2.9818 - acc: 0.4982 - val_loss: nan - val_acc: 0.4999\n",
      "Epoch 40/40\n",
      "110288/110288 [==============================] - 5s 41us/step - loss: 3.0228 - acc: 0.4996 - val_loss: nan - val_acc: 0.5021\n",
      "voulait jersey est est <PAD> <PAD> <PAD> <PAD> <PAD> <PAD> <PAD> <PAD> <PAD> <PAD> <PAD> <PAD> <PAD> <PAD> <PAD> <PAD> <PAD>\n"
     ]
    }
   ],
   "source": [
    "def embed_model(input_shape, output_sequence_length, english_vocab_size, french_vocab_size):\n",
    "    \"\"\"\n",
    "    Build and train a RNN model using word embedding on x and y\n",
    "    :param input_shape: Tuple of input shape\n",
    "    :param output_sequence_length: Length of output sequence\n",
    "    :param english_vocab_size: Number of unique English words in the dataset\n",
    "    :param french_vocab_size: Number of unique French words in the dataset\n",
    "    :return: Keras model built, but not trained\n",
    "    \"\"\"\n",
    "    # TODO: Implement\n",
    "    learning_rate = 0.00001\n",
    "    \n",
    "    model = Sequential([\n",
    "            \n",
    "        # Turns positive integers (indexes) into dense vectors of fixed size.\n",
    "        Embedding(english_vocab_size, 256, input_shape = input_shape[1:] ),\n",
    "        \n",
    "        SimpleRNN(\n",
    "            units = french_vocab_size, # size of output space\n",
    "            return_sequences = True\n",
    "        )\n",
    "    ])\n",
    "    \n",
    "    model.compile(loss=sparse_categorical_crossentropy,\n",
    "                  optimizer=Adam(learning_rate),\n",
    "                  metrics=['accuracy'])\n",
    "            \n",
    "    return model\n",
    "\n",
    "tests.test_embed_model(embed_model)\n",
    "\n",
    "\n",
    "# TODO: Reshape the input\n",
    "# Reshaping the input to work with a basic RNN\n",
    "tmp_x = pad(preproc_english_sentences, max_french_sequence_length)\n",
    "\n",
    "# TODO: Train the neural network\n",
    "embedded_rnn_model = embed_model(\n",
    "    tmp_x.shape,\n",
    "    max_french_sequence_length,\n",
    "    english_vocab_size,\n",
    "    french_vocab_size)\n",
    "embedded_rnn_model_traning_metadata = \\\n",
    "    embedded_rnn_model.fit(tmp_x, preproc_french_sentences, batch_size = 256, epochs=40, validation_split = 0.2 )\n",
    "\n",
    "# TODO: Print prediction(s)\n",
    "print(logits_to_text(embedded_rnn_model.predict(tmp_x[:1])[0], french_tokenizer))"
   ]
  },
  {
   "cell_type": "code",
   "execution_count": 16,
   "metadata": {},
   "outputs": [
    {
     "name": "stdout",
     "output_type": "stream",
     "text": [
      "(137861, 21) 21 199 344\n",
      "_________________________________________________________________\n",
      "Layer (type)                 Output Shape              Param #   \n",
      "=================================================================\n",
      "embedding_2 (Embedding)      (None, 21, 256)           50944     \n",
      "_________________________________________________________________\n",
      "simple_rnn_4 (SimpleRNN)     (None, 21, 344)           206744    \n",
      "=================================================================\n",
      "Total params: 257,688\n",
      "Trainable params: 257,688\n",
      "Non-trainable params: 0\n",
      "_________________________________________________________________\n",
      "None\n"
     ]
    },
    {
     "data": {
      "text/plain": [
       "<matplotlib.axes._subplots.AxesSubplot at 0x7f54100e4940>"
      ]
     },
     "execution_count": 16,
     "metadata": {},
     "output_type": "execute_result"
    },
    {
     "data": {
      "image/png": "[encoded data removed]",
      "text/plain": [
       "<Figure size 432x288 with 1 Axes>"
      ]
     },
     "metadata": {},
     "output_type": "display_data"
    },
    {
     "data": {
      "image/png": "[encoded data removed]",
      "text/plain": [
       "<Figure size 432x288 with 1 Axes>"
      ]
     },
     "metadata": {},
     "output_type": "display_data"
    }
   ],
   "source": [
    "print(tmp_x.shape,\n",
    "    max_french_sequence_length,\n",
    "    english_vocab_size,\n",
    "    french_vocab_size)\n",
    "\n",
    "print(embedded_rnn_model.summary())\n",
    "\n",
    "his = pd.DataFrame.from_dict(embedded_rnn_model_traning_metadata.history)\n",
    "his[['loss','val_loss']].plot()\n",
    "his[['acc','val_acc']].plot()"
   ]
  },
  {
   "cell_type": "markdown",
   "metadata": {},
   "source": [
    "### Model 3: Bidirectional RNNs (IMPLEMENTATION)\n",
    "![RNN](images/bidirectional.png)\n",
    "One restriction of a RNN is that it can't see the future input, only the past.  This is where bidirectional recurrent neural networks come in.  They are able to see the future data."
   ]
  },
  {
   "cell_type": "code",
   "execution_count": 17,
   "metadata": {},
   "outputs": [
    {
     "name": "stdout",
     "output_type": "stream",
     "text": [
      "(137861, 21, 1) (21, 1)\n",
      "(137861, 21, 1) (21, 1)\n",
      "WARNING:tensorflow:Variable *= will be deprecated. Use variable.assign_mul if you want assignment to the variable value or 'x = x * y' if you want a new python Tensor object.\n",
      "Train on 110288 samples, validate on 27573 samples\n",
      "Epoch 1/40\n",
      "110288/110288 [==============================] - 9s 85us/step - loss: 7.8544 - acc: 0.3194 - val_loss: nan - val_acc: 0.3982\n",
      "Epoch 2/40\n",
      "110288/110288 [==============================] - 9s 82us/step - loss: 6.3404 - acc: 0.4113 - val_loss: nan - val_acc: 0.4282\n",
      "Epoch 3/40\n",
      "110288/110288 [==============================] - 9s 82us/step - loss: 5.8386 - acc: 0.4297 - val_loss: nan - val_acc: 0.4321\n",
      "Epoch 4/40\n",
      "110288/110288 [==============================] - 9s 82us/step - loss: 5.7067 - acc: 0.4315 - val_loss: nan - val_acc: 0.4337\n",
      "Epoch 5/40\n",
      "110288/110288 [==============================] - 9s 82us/step - loss: 5.6485 - acc: 0.4337 - val_loss: nan - val_acc: 0.4360\n",
      "Epoch 6/40\n",
      "110288/110288 [==============================] - 9s 82us/step - loss: 5.5896 - acc: 0.4362 - val_loss: nan - val_acc: 0.4380\n",
      "Epoch 7/40\n",
      "110288/110288 [==============================] - 9s 81us/step - loss: 5.5450 - acc: 0.4385 - val_loss: nan - val_acc: 0.4403\n",
      "Epoch 8/40\n",
      "110288/110288 [==============================] - 9s 82us/step - loss: 5.5152 - acc: 0.4410 - val_loss: nan - val_acc: 0.4434\n",
      "Epoch 9/40\n",
      "110288/110288 [==============================] - 9s 81us/step - loss: 5.4885 - acc: 0.4439 - val_loss: nan - val_acc: 0.4464\n",
      "Epoch 10/40\n",
      "110288/110288 [==============================] - 9s 82us/step - loss: 5.4629 - acc: 0.4480 - val_loss: nan - val_acc: 0.4517\n",
      "Epoch 11/40\n",
      "110288/110288 [==============================] - 9s 82us/step - loss: 5.4313 - acc: 0.4529 - val_loss: nan - val_acc: 0.4558\n",
      "Epoch 12/40\n",
      "110288/110288 [==============================] - 9s 82us/step - loss: 5.4091 - acc: 0.4580 - val_loss: nan - val_acc: 0.4611\n",
      "Epoch 13/40\n",
      "110288/110288 [==============================] - 9s 82us/step - loss: 5.3849 - acc: 0.4614 - val_loss: nan - val_acc: 0.4635\n",
      "Epoch 14/40\n",
      "110288/110288 [==============================] - 9s 82us/step - loss: 5.3669 - acc: 0.4641 - val_loss: nan - val_acc: 0.4662\n",
      "Epoch 15/40\n",
      "110288/110288 [==============================] - 9s 82us/step - loss: 5.3514 - acc: 0.4657 - val_loss: nan - val_acc: 0.4669\n",
      "Epoch 16/40\n",
      "110288/110288 [==============================] - 9s 82us/step - loss: 5.3363 - acc: 0.4669 - val_loss: nan - val_acc: 0.4683\n",
      "Epoch 17/40\n",
      "110288/110288 [==============================] - 9s 82us/step - loss: 5.3218 - acc: 0.4679 - val_loss: nan - val_acc: 0.4688\n",
      "Epoch 18/40\n",
      "110288/110288 [==============================] - 9s 82us/step - loss: 5.3088 - acc: 0.4685 - val_loss: nan - val_acc: 0.4695\n",
      "Epoch 19/40\n",
      "110288/110288 [==============================] - 9s 82us/step - loss: 5.2989 - acc: 0.4691 - val_loss: nan - val_acc: 0.4700\n",
      "Epoch 20/40\n",
      "110288/110288 [==============================] - 9s 82us/step - loss: 5.2909 - acc: 0.4694 - val_loss: nan - val_acc: 0.4701\n",
      "Epoch 21/40\n",
      "110288/110288 [==============================] - 9s 82us/step - loss: 5.2827 - acc: 0.4694 - val_loss: nan - val_acc: 0.4696\n",
      "Epoch 22/40\n",
      "110288/110288 [==============================] - 9s 82us/step - loss: 5.2750 - acc: 0.4688 - val_loss: nan - val_acc: 0.4694\n",
      "Epoch 23/40\n",
      "110288/110288 [==============================] - 9s 82us/step - loss: 5.2667 - acc: 0.4687 - val_loss: nan - val_acc: 0.4692\n",
      "Epoch 24/40\n",
      "110288/110288 [==============================] - 9s 82us/step - loss: 5.2588 - acc: 0.4685 - val_loss: nan - val_acc: 0.4694\n",
      "Epoch 25/40\n",
      "110288/110288 [==============================] - 9s 82us/step - loss: 5.2508 - acc: 0.4692 - val_loss: nan - val_acc: 0.4704\n",
      "Epoch 26/40\n",
      "110288/110288 [==============================] - 9s 82us/step - loss: 5.2438 - acc: 0.4702 - val_loss: nan - val_acc: 0.4711\n",
      "Epoch 27/40\n",
      "110288/110288 [==============================] - 9s 82us/step - loss: 5.2368 - acc: 0.4706 - val_loss: nan - val_acc: 0.4714\n",
      "Epoch 28/40\n",
      "110288/110288 [==============================] - 9s 82us/step - loss: 5.2316 - acc: 0.4707 - val_loss: nan - val_acc: 0.4712\n",
      "Epoch 29/40\n",
      "110288/110288 [==============================] - 9s 82us/step - loss: 5.2263 - acc: 0.4703 - val_loss: nan - val_acc: 0.4707\n",
      "Epoch 30/40\n",
      "110288/110288 [==============================] - 9s 82us/step - loss: 5.2214 - acc: 0.4701 - val_loss: nan - val_acc: 0.4708\n",
      "Epoch 31/40\n",
      "110288/110288 [==============================] - 9s 82us/step - loss: 5.2164 - acc: 0.4701 - val_loss: nan - val_acc: 0.4708\n",
      "Epoch 32/40\n",
      "110288/110288 [==============================] - 9s 82us/step - loss: 5.2115 - acc: 0.4707 - val_loss: nan - val_acc: 0.4723\n",
      "Epoch 33/40\n",
      "110288/110288 [==============================] - 9s 82us/step - loss: 5.2067 - acc: 0.4722 - val_loss: nan - val_acc: 0.4736\n",
      "Epoch 34/40\n",
      "110288/110288 [==============================] - 9s 82us/step - loss: 5.2027 - acc: 0.4724 - val_loss: nan - val_acc: 0.4735\n",
      "Epoch 35/40\n",
      "110288/110288 [==============================] - 9s 82us/step - loss: 5.1990 - acc: 0.4722 - val_loss: nan - val_acc: 0.4733\n",
      "Epoch 36/40\n",
      "110288/110288 [==============================] - 9s 82us/step - loss: 5.1955 - acc: 0.4722 - val_loss: nan - val_acc: 0.4732\n",
      "Epoch 37/40\n",
      "110288/110288 [==============================] - 9s 82us/step - loss: 5.1919 - acc: 0.4722 - val_loss: nan - val_acc: 0.4732\n",
      "Epoch 38/40\n",
      "110288/110288 [==============================] - 9s 82us/step - loss: 5.1886 - acc: 0.4722 - val_loss: nan - val_acc: 0.4733\n",
      "Epoch 39/40\n",
      "110288/110288 [==============================] - 9s 82us/step - loss: 5.1850 - acc: 0.4722 - val_loss: nan - val_acc: 0.4731\n",
      "Epoch 40/40\n",
      "110288/110288 [==============================] - 9s 82us/step - loss: 5.1815 - acc: 0.4722 - val_loss: nan - val_acc: 0.4733\n",
      "les plus est est paris est le est mais est l' est le <PAD> <PAD> <PAD> <PAD> <PAD> <PAD> <PAD> <PAD>\n"
     ]
    }
   ],
   "source": [
    "def bd_model(input_shape, output_sequence_length, english_vocab_size, french_vocab_size):\n",
    "    \"\"\"\n",
    "    Build and train a bidirectional RNN model on x and y\n",
    "    :param input_shape: Tuple of input shape\n",
    "    :param output_sequence_length: Length of output sequence\n",
    "    :param english_vocab_size: Number of unique English words in the dataset\n",
    "    :param french_vocab_size: Number of unique French words in the dataset\n",
    "    :return: Keras model built, but not trained\n",
    "    \"\"\"\n",
    "    # TODO: Implement\n",
    "    print(input_shape, input_shape[1:])\n",
    "    learning_rate = 0.00001\n",
    "    \n",
    "    model = Sequential([\n",
    "        Bidirectional(\n",
    "            SimpleRNN(            \n",
    "                units = 512, # size of output space\n",
    "                return_sequences = True\n",
    "            ),\n",
    "            input_shape = input_shape[1:]\n",
    "        ),\n",
    "        TimeDistributed(\n",
    "            Dense(french_vocab_size)\n",
    "        )\n",
    "    ])\n",
    "    \n",
    "    model.compile(loss=sparse_categorical_crossentropy,\n",
    "                  optimizer=Adam(learning_rate, decay = .003),\n",
    "                  metrics=['accuracy'])\n",
    "            \n",
    "    return model\n",
    "\n",
    "\n",
    "\n",
    "tests.test_bd_model(bd_model)\n",
    "\n",
    "\n",
    "# TODO: Train and Print prediction(s)\n",
    "\n",
    "\n",
    "# TODO: Reshape the input\n",
    "# Reshaping the input to work with a basic RNN\n",
    "tmp_x = pad(preproc_english_sentences, max_french_sequence_length)\n",
    "tmp_x = tmp_x.reshape((-1, preproc_french_sentences.shape[-2], 1))\n",
    "\n",
    "\n",
    "# TODO: Train the neural network\n",
    "bd_model = bd_model(\n",
    "    tmp_x.shape,\n",
    "    max_french_sequence_length,\n",
    "    english_vocab_size,\n",
    "    french_vocab_size)\n",
    "\n",
    "bd_model_traning_metadata = \\\n",
    "    bd_model.fit(tmp_x, preproc_french_sentences, batch_size = 256, epochs=40, validation_split = 0.2 )\n",
    "\n",
    "# TODO: Print prediction(s)\n",
    "print(logits_to_text(bd_model.predict(tmp_x[:1])[0], french_tokenizer))"
   ]
  },
  {
   "cell_type": "code",
   "execution_count": 18,
   "metadata": {},
   "outputs": [
    {
     "name": "stdout",
     "output_type": "stream",
     "text": [
      "(137861, 21, 1) 21 199 344\n",
      "_________________________________________________________________\n",
      "Layer (type)                 Output Shape              Param #   \n",
      "=================================================================\n",
      "bidirectional_2 (Bidirection (None, 21, 1024)          526336    \n",
      "_________________________________________________________________\n",
      "time_distributed_2 (TimeDist (None, 21, 344)           352600    \n",
      "=================================================================\n",
      "Total params: 878,936\n",
      "Trainable params: 878,936\n",
      "Non-trainable params: 0\n",
      "_________________________________________________________________\n",
      "None\n"
     ]
    },
    {
     "data": {
      "text/plain": [
       "<matplotlib.axes._subplots.AxesSubplot at 0x7f53f7063e48>"
      ]
     },
     "execution_count": 18,
     "metadata": {},
     "output_type": "execute_result"
    },
    {
     "data": {
      "image/png": "[encoded data removed]",
      "text/plain": [
       "<Figure size 432x288 with 1 Axes>"
      ]
     },
     "metadata": {},
     "output_type": "display_data"
    },
    {
     "data": {
      "image/png": "[encoded data removed]",
      "text/plain": [
       "<Figure size 432x288 with 1 Axes>"
      ]
     },
     "metadata": {},
     "output_type": "display_data"
    }
   ],
   "source": [
    "print(tmp_x.shape,\n",
    "    max_french_sequence_length,\n",
    "    english_vocab_size,\n",
    "    french_vocab_size)\n",
    "\n",
    "print(bd_model.summary())\n",
    "\n",
    "his = pd.DataFrame.from_dict(bd_model_traning_metadata.history)\n",
    "his[['loss','val_loss']].plot()\n",
    "his[['acc','val_acc']].plot()"
   ]
  },
  {
   "cell_type": "markdown",
   "metadata": {},
   "source": [
    "### Model 4: Encoder-Decoder (OPTIONAL)\n",
    "Time to look at encoder-decoder models.  This model is made up of an encoder and decoder. The encoder creates a matrix representation of the sentence.  The decoder takes this matrix as input and predicts the translation as output.\n",
    "\n",
    "Create an encoder-decoder model in the cell below."
   ]
  },
  {
   "cell_type": "code",
   "execution_count": 19,
   "metadata": {},
   "outputs": [
    {
     "name": "stdout",
     "output_type": "stream",
     "text": [
      "Train on 110288 samples, validate on 27573 samples\n",
      "Epoch 1/40\n",
      "110288/110288 [==============================] - 8s 72us/step - loss: 7.6841 - acc: 0.1086 - val_loss: nan - val_acc: 0.1518\n",
      "Epoch 2/40\n",
      "110288/110288 [==============================] - 8s 70us/step - loss: 6.6062 - acc: 0.1631 - val_loss: nan - val_acc: 0.2154\n",
      "Epoch 3/40\n",
      "110288/110288 [==============================] - 8s 69us/step - loss: 6.1948 - acc: 0.1959 - val_loss: nan - val_acc: 0.1880\n",
      "Epoch 4/40\n",
      "110288/110288 [==============================] - 8s 69us/step - loss: 5.9006 - acc: 0.1998 - val_loss: nan - val_acc: 0.1910\n",
      "Epoch 5/40\n",
      "110288/110288 [==============================] - 8s 69us/step - loss: 5.6793 - acc: 0.2053 - val_loss: nan - val_acc: 0.1995\n",
      "Epoch 6/40\n",
      "110288/110288 [==============================] - 8s 69us/step - loss: 5.4600 - acc: 0.2031 - val_loss: nan - val_acc: 0.2112\n",
      "Epoch 7/40\n",
      "110288/110288 [==============================] - 8s 69us/step - loss: 5.4149 - acc: 0.1967 - val_loss: nan - val_acc: 0.2157\n",
      "Epoch 8/40\n",
      "110288/110288 [==============================] - 8s 69us/step - loss: 5.3214 - acc: 0.2092 - val_loss: nan - val_acc: 0.2152\n",
      "Epoch 9/40\n",
      "110288/110288 [==============================] - 8s 69us/step - loss: 5.2644 - acc: 0.2019 - val_loss: nan - val_acc: 0.2167\n",
      "Epoch 10/40\n",
      "110288/110288 [==============================] - 8s 69us/step - loss: 5.2071 - acc: 0.2038 - val_loss: nan - val_acc: 0.2246\n",
      "Epoch 11/40\n",
      "110288/110288 [==============================] - 8s 69us/step - loss: 5.1284 - acc: 0.2160 - val_loss: nan - val_acc: 0.2244\n",
      "Epoch 12/40\n",
      "110288/110288 [==============================] - 8s 69us/step - loss: 5.0904 - acc: 0.2224 - val_loss: nan - val_acc: 0.2071\n",
      "Epoch 13/40\n",
      "110288/110288 [==============================] - 8s 69us/step - loss: 5.0495 - acc: 0.2171 - val_loss: nan - val_acc: 0.2076\n",
      "Epoch 14/40\n",
      "110288/110288 [==============================] - 8s 69us/step - loss: 5.0093 - acc: 0.2243 - val_loss: nan - val_acc: 0.2025\n",
      "Epoch 15/40\n",
      "110288/110288 [==============================] - 8s 69us/step - loss: 5.0161 - acc: 0.2121 - val_loss: nan - val_acc: 0.2563\n",
      "Epoch 16/40\n",
      "110288/110288 [==============================] - 8s 69us/step - loss: 4.9288 - acc: 0.2473 - val_loss: nan - val_acc: 0.2532\n",
      "Epoch 17/40\n",
      "110288/110288 [==============================] - 8s 69us/step - loss: 4.9029 - acc: 0.2459 - val_loss: nan - val_acc: 0.2188\n",
      "Epoch 18/40\n",
      "110288/110288 [==============================] - 8s 69us/step - loss: 4.8747 - acc: 0.2448 - val_loss: nan - val_acc: 0.2365\n",
      "Epoch 19/40\n",
      "110288/110288 [==============================] - 8s 69us/step - loss: 4.8342 - acc: 0.2606 - val_loss: nan - val_acc: 0.2493\n",
      "Epoch 20/40\n",
      "110288/110288 [==============================] - 8s 69us/step - loss: 4.8000 - acc: 0.2620 - val_loss: nan - val_acc: 0.2580\n",
      "Epoch 21/40\n",
      "110288/110288 [==============================] - 8s 69us/step - loss: 4.7637 - acc: 0.2755 - val_loss: nan - val_acc: 0.2581\n",
      "Epoch 22/40\n",
      "110288/110288 [==============================] - 8s 69us/step - loss: 4.7223 - acc: 0.2947 - val_loss: nan - val_acc: 0.2580\n",
      "Epoch 23/40\n",
      "110288/110288 [==============================] - 8s 69us/step - loss: 4.7074 - acc: 0.2899 - val_loss: nan - val_acc: 0.2700\n",
      "Epoch 24/40\n",
      "110288/110288 [==============================] - 8s 69us/step - loss: 4.7038 - acc: 0.3067 - val_loss: nan - val_acc: 0.3379\n",
      "Epoch 25/40\n",
      "110288/110288 [==============================] - 8s 69us/step - loss: 4.6677 - acc: 0.3287 - val_loss: nan - val_acc: 0.3235\n",
      "Epoch 26/40\n",
      "110288/110288 [==============================] - 8s 69us/step - loss: 4.6250 - acc: 0.3427 - val_loss: nan - val_acc: 0.4059\n",
      "Epoch 27/40\n",
      "110288/110288 [==============================] - 8s 69us/step - loss: 4.5897 - acc: 0.3553 - val_loss: nan - val_acc: 0.3713\n",
      "Epoch 28/40\n",
      "110288/110288 [==============================] - 8s 69us/step - loss: 4.5506 - acc: 0.3502 - val_loss: nan - val_acc: 0.4053\n",
      "Epoch 29/40\n",
      "110288/110288 [==============================] - 8s 69us/step - loss: 4.5027 - acc: 0.3760 - val_loss: nan - val_acc: 0.4129\n",
      "Epoch 30/40\n",
      "110288/110288 [==============================] - 8s 69us/step - loss: 4.5193 - acc: 0.3665 - val_loss: nan - val_acc: 0.3825\n",
      "Epoch 31/40\n",
      "110288/110288 [==============================] - 8s 69us/step - loss: 4.5448 - acc: 0.3698 - val_loss: nan - val_acc: 0.4197\n",
      "Epoch 32/40\n",
      "110288/110288 [==============================] - 8s 69us/step - loss: 4.4910 - acc: 0.3937 - val_loss: nan - val_acc: 0.4198\n",
      "Epoch 33/40\n",
      "110288/110288 [==============================] - 8s 69us/step - loss: 4.4504 - acc: 0.3793 - val_loss: nan - val_acc: 0.4124\n",
      "Epoch 34/40\n",
      "110288/110288 [==============================] - 8s 69us/step - loss: 4.5081 - acc: 0.3746 - val_loss: nan - val_acc: 0.4222\n",
      "Epoch 35/40\n",
      "110288/110288 [==============================] - 8s 69us/step - loss: 4.4584 - acc: 0.3891 - val_loss: nan - val_acc: 0.4230\n",
      "Epoch 36/40\n",
      "110288/110288 [==============================] - 8s 69us/step - loss: 4.4095 - acc: 0.4077 - val_loss: nan - val_acc: 0.4201\n",
      "Epoch 37/40\n",
      "110288/110288 [==============================] - 8s 69us/step - loss: 4.3655 - acc: 0.4159 - val_loss: nan - val_acc: 0.4198\n",
      "Epoch 38/40\n",
      "110288/110288 [==============================] - 8s 70us/step - loss: 4.3399 - acc: 0.4181 - val_loss: nan - val_acc: 0.4202\n",
      "Epoch 39/40\n",
      "110288/110288 [==============================] - 8s 69us/step - loss: 4.2864 - acc: 0.4190 - val_loss: nan - val_acc: 0.4201\n",
      "Epoch 40/40\n",
      "110288/110288 [==============================] - 8s 69us/step - loss: 4.3630 - acc: 0.4082 - val_loss: nan - val_acc: 0.4230\n",
      "est est <PAD> <PAD> <PAD> <PAD> <PAD> <PAD> <PAD> <PAD> <PAD> <PAD> <PAD> <PAD> <PAD> <PAD> <PAD> <PAD> <PAD> <PAD> <PAD>\n"
     ]
    }
   ],
   "source": [
    "def encdec_model(input_shape, output_sequence_length, english_vocab_size, french_vocab_size):\n",
    "    \"\"\"\n",
    "    Build and train an encoder-decoder model on x and y\n",
    "    :param input_shape: Tuple of input shape\n",
    "    :param output_sequence_length: Length of output sequence\n",
    "    :param english_vocab_size: Number of unique English words in the dataset\n",
    "    :param french_vocab_size: Number of unique French words in the dataset\n",
    "    :return: Keras model built, but not trained\n",
    "    \"\"\"\n",
    "    # OPTIONAL: Implement\n",
    "    \n",
    "    # DISCLAIMER\n",
    "    # YES! This is NOT a propper encoder-decoder, I know i feed the return state from the encoder into every input of the decoder\n",
    "    # I have done some research on it (now, and a year ago for my Deeplearning nanodegree), and it requires 5 times the work, I do not has the time at this point\n",
    "    \n",
    "    learning_rate = 0.00001\n",
    "        \n",
    "    model = Sequential([\n",
    "        SimpleRNN(\n",
    "            units = 512, # size of output space\n",
    "            return_sequences = False,\n",
    "            input_shape = input_shape[1:], # don't care how big the traning set is,\n",
    "        ),\n",
    "        Dropout(.2),\n",
    "        RepeatVector(output_sequence_length),\n",
    "        SimpleRNN(units = french_vocab_size,\n",
    "                 return_sequences = True)\n",
    "    ])\n",
    "    \n",
    "    model.compile(loss=sparse_categorical_crossentropy,\n",
    "                  optimizer=Adam(learning_rate),\n",
    "                  metrics=['accuracy'])\n",
    "    \n",
    "    return model\n",
    "\n",
    "tests.test_encdec_model(encdec_model)\n",
    "\n",
    "\n",
    "# OPTIONAL: Train and Print prediction(s)\n",
    "\n",
    "# Reshaping the input to work with a basic RNN\n",
    "tmp_x = pad(preproc_english_sentences, max_french_sequence_length)\n",
    "tmp_x = tmp_x.reshape((-1, preproc_french_sentences.shape[-2], 1))\n",
    "\n",
    "# Train the neural network\n",
    "encdec_rnn_model = encdec_model(\n",
    "    tmp_x.shape,\n",
    "    max_french_sequence_length,\n",
    "    english_vocab_size,\n",
    "    french_vocab_size)\n",
    "\n",
    "# i turned down batch size down, feels likes it learns faster\n",
    "encdec_rnn_model_traning_metadata = \\\n",
    "    encdec_rnn_model.fit(tmp_x, preproc_french_sentences, batch_size=256, epochs=40, validation_split=0.2)\n",
    "\n",
    "# Print prediction(s)\n",
    "print(logits_to_text(encdec_rnn_model.predict(tmp_x[:1])[0], french_tokenizer))"
   ]
  },
  {
   "cell_type": "markdown",
   "metadata": {},
   "source": [
    "output issn't great, probaly because it uses the same input for all of the \"decodeing\" cells, hmm, won't use more time on the optional task for now (same outcome with 50 epochs). But it converges"
   ]
  },
  {
   "cell_type": "code",
   "execution_count": 20,
   "metadata": {},
   "outputs": [
    {
     "name": "stdout",
     "output_type": "stream",
     "text": [
      "(137861, 21, 1) 21 199 344\n",
      "_________________________________________________________________\n",
      "Layer (type)                 Output Shape              Param #   \n",
      "=================================================================\n",
      "simple_rnn_9 (SimpleRNN)     (None, 512)               263168    \n",
      "_________________________________________________________________\n",
      "dropout_2 (Dropout)          (None, 512)               0         \n",
      "_________________________________________________________________\n",
      "repeat_vector_2 (RepeatVecto (None, 21, 512)           0         \n",
      "_________________________________________________________________\n",
      "simple_rnn_10 (SimpleRNN)    (None, 21, 344)           294808    \n",
      "=================================================================\n",
      "Total params: 557,976\n",
      "Trainable params: 557,976\n",
      "Non-trainable params: 0\n",
      "_________________________________________________________________\n",
      "None\n"
     ]
    },
    {
     "data": {
      "text/plain": [
       "<matplotlib.axes._subplots.AxesSubplot at 0x7f53f57550f0>"
      ]
     },
     "execution_count": 20,
     "metadata": {},
     "output_type": "execute_result"
    },
    {
     "data": {
      "image/png": "[encoded data removed]",
      "text/plain": [
       "<Figure size 432x288 with 1 Axes>"
      ]
     },
     "metadata": {},
     "output_type": "display_data"
    },
    {
     "data": {
      "image/png": "[encoded data removed]",
      "text/plain": [
       "<Figure size 432x288 with 1 Axes>"
      ]
     },
     "metadata": {},
     "output_type": "display_data"
    }
   ],
   "source": [
    "print(tmp_x.shape,\n",
    "    max_french_sequence_length,\n",
    "    english_vocab_size,\n",
    "    french_vocab_size)\n",
    "\n",
    "print(encdec_rnn_model.summary())\n",
    "\n",
    "his = pd.DataFrame.from_dict(encdec_rnn_model_traning_metadata.history)\n",
    "his[['loss','val_loss']].plot()\n",
    "his[['acc','val_acc']].plot()"
   ]
  },
  {
   "cell_type": "markdown",
   "metadata": {},
   "source": [
    "### Model 5: Custom (IMPLEMENTATION)\n",
    "Use everything you learned from the previous models to create a model that incorporates embedding and a bidirectional rnn into one model."
   ]
  },
  {
   "cell_type": "code",
   "execution_count": 131,
   "metadata": {},
   "outputs": [
    {
     "name": "stdout",
     "output_type": "stream",
     "text": [
      "Final Model Loaded\n",
      "Train on 110288 samples, validate on 27573 samples\n",
      "Epoch 1/25\n",
      "110288/110288 [==============================] - 210s 2ms/step - loss: 2.1042 - acc: 0.5054 - val_loss: nan - val_acc: 0.6075\n",
      "Epoch 2/25\n",
      "110288/110288 [==============================] - 199s 2ms/step - loss: 1.3905 - acc: 0.6219 - val_loss: nan - val_acc: 0.6791\n",
      "Epoch 3/25\n",
      "110288/110288 [==============================] - 199s 2ms/step - loss: 1.1516 - acc: 0.6734 - val_loss: nan - val_acc: 0.7196\n",
      "Epoch 4/25\n",
      "110288/110288 [==============================] - 199s 2ms/step - loss: 1.0078 - acc: 0.7079 - val_loss: nan - val_acc: 0.7488\n",
      "Epoch 5/25\n",
      "110288/110288 [==============================] - 199s 2ms/step - loss: 0.8938 - acc: 0.7376 - val_loss: nan - val_acc: 0.7797\n",
      "Epoch 6/25\n",
      "110288/110288 [==============================] - 199s 2ms/step - loss: 0.8030 - acc: 0.7612 - val_loss: nan - val_acc: 0.8030\n",
      "Epoch 7/25\n",
      "110288/110288 [==============================] - 199s 2ms/step - loss: 0.7276 - acc: 0.7817 - val_loss: nan - val_acc: 0.8212\n",
      "Epoch 8/25\n",
      "110288/110288 [==============================] - 199s 2ms/step - loss: 0.6564 - acc: 0.8016 - val_loss: nan - val_acc: 0.8445\n",
      "Epoch 9/25\n",
      "110288/110288 [==============================] - 199s 2ms/step - loss: 0.5877 - acc: 0.8213 - val_loss: nan - val_acc: 0.8647\n",
      "Epoch 10/25\n",
      "110288/110288 [==============================] - 199s 2ms/step - loss: 0.5244 - acc: 0.8402 - val_loss: nan - val_acc: 0.8827\n",
      "Epoch 11/25\n",
      "110288/110288 [==============================] - 199s 2ms/step - loss: 0.4696 - acc: 0.8564 - val_loss: nan - val_acc: 0.8931\n",
      "Epoch 12/25\n",
      "110288/110288 [==============================] - 199s 2ms/step - loss: 0.4244 - acc: 0.8700 - val_loss: nan - val_acc: 0.9103\n",
      "Epoch 13/25\n",
      "110288/110288 [==============================] - 199s 2ms/step - loss: 0.3841 - acc: 0.8826 - val_loss: nan - val_acc: 0.9195\n",
      "Epoch 14/25\n",
      "110288/110288 [==============================] - 199s 2ms/step - loss: 0.3465 - acc: 0.8940 - val_loss: nan - val_acc: 0.9269\n",
      "Epoch 15/25\n",
      "110288/110288 [==============================] - 199s 2ms/step - loss: 0.3170 - acc: 0.9032 - val_loss: nan - val_acc: 0.9337\n",
      "Epoch 16/25\n",
      "110288/110288 [==============================] - 199s 2ms/step - loss: 0.2923 - acc: 0.9106 - val_loss: nan - val_acc: 0.9397\n",
      "Epoch 17/25\n",
      "110288/110288 [==============================] - 199s 2ms/step - loss: 0.2711 - acc: 0.9173 - val_loss: nan - val_acc: 0.9429\n",
      "Epoch 18/25\n",
      "110288/110288 [==============================] - 199s 2ms/step - loss: 0.2527 - acc: 0.9229 - val_loss: nan - val_acc: 0.9449\n",
      "Epoch 19/25\n",
      "110288/110288 [==============================] - 199s 2ms/step - loss: 0.2371 - acc: 0.9277 - val_loss: nan - val_acc: 0.9414\n",
      "Epoch 20/25\n",
      "110288/110288 [==============================] - 199s 2ms/step - loss: 0.2236 - acc: 0.9319 - val_loss: nan - val_acc: 0.9495\n",
      "Epoch 21/25\n",
      "110288/110288 [==============================] - 199s 2ms/step - loss: 0.2111 - acc: 0.9356 - val_loss: nan - val_acc: 0.9529\n",
      "Epoch 22/25\n",
      "110288/110288 [==============================] - 199s 2ms/step - loss: 0.2009 - acc: 0.9387 - val_loss: nan - val_acc: 0.9561\n",
      "Epoch 23/25\n",
      "110288/110288 [==============================] - 199s 2ms/step - loss: 0.1911 - acc: 0.9419 - val_loss: nan - val_acc: 0.9548\n",
      "Epoch 24/25\n",
      "110288/110288 [==============================] - 199s 2ms/step - loss: 0.1808 - acc: 0.9450 - val_loss: nan - val_acc: 0.9582\n",
      "Epoch 25/25\n",
      "110288/110288 [==============================] - 199s 2ms/step - loss: 0.1727 - acc: 0.9473 - val_loss: nan - val_acc: 0.9614\n"
     ]
    }
   ],
   "source": [
    "def model_final(input_shape, output_sequence_length, english_vocab_size, french_vocab_size):\n",
    "    \"\"\"\n",
    "    Build and train a model that incorporates embedding, encoder-decoder, and bidirectional RNN on x and y\n",
    "    :param input_shape: Tuple of input shape\n",
    "    :param output_sequence_length: Length of output sequence\n",
    "    :param english_vocab_size: Number of unique English words in the dataset\n",
    "    :param french_vocab_size: Number of unique French words in the dataset\n",
    "    :return: Keras model built, but not trained\n",
    "    \"\"\"\n",
    "\n",
    "    # TODO: Implement\n",
    "    \n",
    "    learning_rate = 0.0001\n",
    "    \n",
    "    i = Input(shape=input_shape[1:])\n",
    "    \n",
    "    x = Embedding(input_dim=english_vocab_size, output_dim=256)(i)\n",
    "    \n",
    "    x = Bidirectional(LSTM(128, return_sequences=False))(x)\n",
    "\n",
    "    x = RepeatVector(output_sequence_length)(x)\n",
    "    \n",
    "    x = Bidirectional(LSTM(128, return_sequences=True))(x)\n",
    "    \n",
    "    x = Dropout(.5)(x)\n",
    "    \n",
    "    x = TimeDistributed(Dense(512, activation=\"relu\"))(x)\n",
    "    \n",
    "    x = TimeDistributed(Dense(french_vocab_size, activation=\"sigmoid\"))(x)\n",
    "\n",
    "\n",
    "    model = Model(inputs=i, outputs=x)\n",
    "        \n",
    "    model.compile(loss=sparse_categorical_crossentropy,\n",
    "              optimizer=Adam(learning_rate),\n",
    "              metrics=['accuracy'])\n",
    "    \n",
    "    return model\n",
    "\n",
    "\n",
    "tests.test_model_final(model_final)\n",
    "\n",
    "\n",
    "print('Final Model Loaded')\n",
    "# TODO: Train the final model\n",
    "\n",
    "\n",
    "\n",
    "# Train the neural network\n",
    "final_model = model_final(\n",
    "    preproc_english_sentences.shape,\n",
    "    max_french_sequence_length,\n",
    "    english_vocab_size,\n",
    "    french_vocab_size)\n",
    "\n",
    "\n",
    "\n",
    "# i turned down batch size down, feels likes it learns better\n",
    "final_model_traning_metadata = \\\n",
    "    final_model.fit(preproc_english_sentences, preproc_french_sentences, batch_size=32, epochs=25, validation_split=0.2)\n"
   ]
  },
  {
   "cell_type": "code",
   "execution_count": 136,
   "metadata": {},
   "outputs": [
    {
     "name": "stdout",
     "output_type": "stream",
     "text": [
      "(137861, 21) 21 199 344\n",
      "_________________________________________________________________\n",
      "Layer (type)                 Output Shape              Param #   \n",
      "=================================================================\n",
      "input_88 (InputLayer)        (None, 15)                0         \n",
      "_________________________________________________________________\n",
      "embedding_111 (Embedding)    (None, 15, 256)           50944     \n",
      "_________________________________________________________________\n",
      "bidirectional_135 (Bidirecti (None, 256)               394240    \n",
      "_________________________________________________________________\n",
      "repeat_vector_98 (RepeatVect (None, 21, 256)           0         \n",
      "_________________________________________________________________\n",
      "bidirectional_136 (Bidirecti (None, 21, 256)           394240    \n",
      "_________________________________________________________________\n",
      "dropout_44 (Dropout)         (None, 21, 256)           0         \n",
      "_________________________________________________________________\n",
      "time_distributed_147 (TimeDi (None, 21, 512)           131584    \n",
      "_________________________________________________________________\n",
      "time_distributed_148 (TimeDi (None, 21, 344)           176472    \n",
      "=================================================================\n",
      "Total params: 1,147,480\n",
      "Trainable params: 1,147,480\n",
      "Non-trainable params: 0\n",
      "_________________________________________________________________\n",
      "None\n"
     ]
    },
    {
     "data": {
      "text/plain": [
       "<matplotlib.axes._subplots.AxesSubplot at 0x7f533e68d9b0>"
      ]
     },
     "execution_count": 136,
     "metadata": {},
     "output_type": "execute_result"
    },
    {
     "data": {
      "image/png": "[encoded data removed]",
      "text/plain": [
       "<Figure size 432x288 with 1 Axes>"
      ]
     },
     "metadata": {},
     "output_type": "display_data"
    },
    {
     "data": {
      "image/png": "[encoded data removed]",
      "text/plain": [
       "<Figure size 432x288 with 1 Axes>"
      ]
     },
     "metadata": {},
     "output_type": "display_data"
    }
   ],
   "source": [
    "print(tmp_x.shape,\n",
    "    max_french_sequence_length,\n",
    "    english_vocab_size,\n",
    "    french_vocab_size)\n",
    "\n",
    "print(final_model.summary())\n",
    "\n",
    "his = pd.DataFrame.from_dict(final_model_traning_metadata.history)\n",
    "his[['loss','val_loss']].plot()\n",
    "his[['acc','val_acc']].plot()"
   ]
  },
  {
   "cell_type": "markdown",
   "metadata": {},
   "source": [
    "## Prediction (IMPLEMENTATION)"
   ]
  },
  {
   "cell_type": "code",
   "execution_count": 231,
   "metadata": {
    "scrolled": false
   },
   "outputs": [
    {
     "name": "stdout",
     "output_type": "stream",
     "text": [
      "Sample 1 \n",
      "   il a vu un vieux camion jaune <PAD> <PAD> <PAD> <PAD> <PAD> <PAD> <PAD> <PAD> <PAD> <PAD> <PAD> <PAD> <PAD> <PAD> \n",
      "  should be \n",
      "   Il a vu un vieux camion jaune \n",
      "\n",
      "\n",
      "\n",
      "Sample 2 \n",
      "   new jersey est parfois calme pendant l' automne et il est neigeux en avril <PAD> <PAD> <PAD> <PAD> <PAD> <PAD> <PAD> \n",
      " should be \n",
      "   new jersey est parfois calme pendant l' automne , et il est neigeux en avril .\n"
     ]
    }
   ],
   "source": [
    "def final_predictions(x, y, x_tk, y_tk):\n",
    "    \"\"\"\n",
    "    Gets predictions using the final model\n",
    "    :param x: Preprocessed English data\n",
    "    :param y: Preprocessed French data\n",
    "    :param x_tk: English tokenizer\n",
    "    :param y_tk: French tokenizer\n",
    "    \"\"\"\n",
    "    # TODO: Train neural network using model_final\n",
    "    model = final_model\n",
    "\n",
    "    \n",
    "    ## DON'T EDIT ANYTHING BELOW THIS LINE\n",
    "    # You might see some changes\n",
    "    \n",
    "    \n",
    "    y_id_to_word = {value: key for key, value in y_tk.word_index.items()}\n",
    "    y_id_to_word[0] = '<PAD>'\n",
    "    \n",
    "    def predict(sentence):\n",
    "        sentence = [x_tk.word_index[word] for word in sentence.split() if word in x_tk.word_index]\n",
    "        sentence = pad_sequences([sentence], maxlen=x.shape[1], padding='post')\n",
    "        sentence_prediction = model.predict(sentence)\n",
    "        sentence_prediction = ' '.join([y_id_to_word[np.argmax(x)] for x in sentence_prediction[0]])\n",
    "        return sentence_prediction\n",
    "    \n",
    "    sample_1_sentence = 'he saw a old yellow truck'\n",
    "    sample_1_correct_sentence = 'Il a vu un vieux camion jaune'\n",
    "    print(\"Sample 1 \\n   {} \\n  should be \\n   {} \\n\\n\\n\".format(predict(sample_1_sentence), sample_1_correct_sentence))\n",
    "    \n",
    "    \n",
    "    sample_2_sentence = english_sentences[0]\n",
    "    sample_2_correct_sentence = french_sentences[0]\n",
    "    print(\"Sample 2 \\n   {} \\n should be \\n   {}\".format(predict(sample_2_sentence), sample_2_correct_sentence))\n",
    "   \n",
    "    \n",
    "final_predictions(\n",
    "    preproc_english_sentences, \n",
    "    preproc_french_sentences, english_tokenizer, french_tokenizer)"
   ]
  },
  {
   "cell_type": "markdown",
   "metadata": {},
   "source": [
    "## Submission\n",
    "When you're ready to submit, complete the following steps:\n",
    "1. Review the [rubric](https://review.udacity.com/#!/rubrics/1004/view) to ensure your submission meets all requirements to pass\n",
    "2. Generate an HTML version of this notebook\n",
    "\n",
    "  - Run the next cell to attempt automatic generation (this is the recommended method in Workspaces)\n",
    "  - Navigate to **FILE -> Download as -> HTML (.html)**\n",
    "  - Manually generate a copy using `nbconvert` from your shell terminal\n",
    "```\n",
    "$ pip install nbconvert\n",
    "$ python -m nbconvert machine_translation.ipynb\n",
    "```\n",
    "  \n",
    "3. Submit the project\n",
    "\n",
    "  - If you are in a Workspace, simply click the \"Submit Project\" button (bottom towards the right)\n",
    "  \n",
    "  - Otherwise, add the following files into a zip archive and submit them \n",
    "  - `helper.py`\n",
    "  - `machine_translation.ipynb`\n",
    "  - `machine_translation.html`\n",
    "    - You can export the notebook by navigating to **File -> Download as -> HTML (.html)**."
   ]
  },
  {
   "cell_type": "code",
   "execution_count": null,
   "metadata": {},
   "outputs": [],
   "source": [
    "!!python -m nbconvert *.ipynb"
   ]
  },
  {
   "cell_type": "markdown",
   "metadata": {},
   "source": [
    "## Optional Enhancements\n",
    "\n",
    "This project focuses on learning various network architectures for machine translation, but we don't evaluate the models according to best practices by splitting the data into separate test & training sets -- so the model accuracy is overstated. Use the [`sklearn.model_selection.train_test_split()`](http://scikit-learn.org/stable/modules/generated/sklearn.model_selection.train_test_split.html) function to create separate training & test datasets, then retrain each of the models using only the training set and evaluate the prediction accuracy using the hold out test set. Does the \"best\" model change?"
   ]
  }
 ],
 "metadata": {
  "kernelspec": {
   "display_name": "Python [default]",
   "language": "python",
   "name": "python3"
  },
  "language_info": {
   "codemirror_mode": {
    "name": "ipython",
    "version": 3
   },
   "file_extension": ".py",
   "mimetype": "text/x-python",
   "name": "python",
   "nbconvert_exporter": "python",
   "pygments_lexer": "ipython3",
   "version": "3.5.5"
  }
 },
 "nbformat": 4,
 "nbformat_minor": 1
}
